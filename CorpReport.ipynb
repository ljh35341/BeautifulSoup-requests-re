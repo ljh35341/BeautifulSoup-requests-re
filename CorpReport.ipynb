{
 "cells": [
  {
   "cell_type": "code",
   "execution_count": 46,
   "metadata": {
    "scrolled": true
   },
   "outputs": [
    {
     "name": "stdout",
     "output_type": "stream",
     "text": [
      "현대백화점: https://ssl.pstatic.net/imgstock/upload/research/company/1582594924383.pdf\n",
      "브이티지엠피: https://ssl.pstatic.net/imgstock/upload/research/company/1582594420173.pdf\n",
      "원익IPS: https://ssl.pstatic.net/imgstock/upload/research/company/1582593593128.pdf\n",
      "삼성카드: https://ssl.pstatic.net/imgstock/upload/research/company/1582593551090.pdf\n",
      "원익머트리얼즈: https://ssl.pstatic.net/imgstock/upload/research/company/1582593509456.pdf\n",
      "한국조선해양: https://ssl.pstatic.net/imgstock/upload/research/company/1582593458879.pdf\n",
      "화승엔터프라이즈: https://ssl.pstatic.net/imgstock/upload/research/company/1582592600661.pdf\n",
      "에스에프에이: https://ssl.pstatic.net/imgstock/upload/research/company/1582592564734.pdf\n",
      "LG디스플레이: https://ssl.pstatic.net/imgstock/upload/research/company/1582592526782.pdf\n",
      "팜스빌: https://ssl.pstatic.net/imgstock/upload/research/company/1582592487968.pdf\n"
     ]
    }
   ],
   "source": [
    "from bs4 import BeautifulSoup\n",
    "import requests as rq\n",
    "corp = []\n",
    "pdf = []\n",
    "\n",
    "url = 'https://finance.naver.com/research/company_list.nhn'\n",
    "res = rq.get(url)\n",
    "soup = BeautifulSoup(res.content, 'lxml')\n",
    "names = soup.find_all('a', class_=\"stock_item\")\n",
    "links = soup.find_all('td', class_=\"file\")\n",
    "\n",
    "for name in names:\n",
    "    corp.append(name['title'])\n",
    "for link in links:\n",
    "    for a in link:\n",
    "        pdf.append(a['href'])\n",
    "\n",
    "result = [x+\": \"+y for x, y in zip(corp, pdf)]\n",
    "for i in result[:10]:\n",
    "    print(i)"
   ]
  },
  {
   "cell_type": "code",
   "execution_count": null,
   "metadata": {},
   "outputs": [],
   "source": []
  },
  {
   "cell_type": "code",
   "execution_count": null,
   "metadata": {},
   "outputs": [],
   "source": []
  },
  {
   "cell_type": "code",
   "execution_count": null,
   "metadata": {},
   "outputs": [],
   "source": []
  }
 ],
 "metadata": {
  "kernelspec": {
   "display_name": "Python 3",
   "language": "python",
   "name": "python3"
  },
  "language_info": {
   "codemirror_mode": {
    "name": "ipython",
    "version": 3
   },
   "file_extension": ".py",
   "mimetype": "text/x-python",
   "name": "python",
   "nbconvert_exporter": "python",
   "pygments_lexer": "ipython3",
   "version": "3.7.3"
  }
 },
 "nbformat": 4,
 "nbformat_minor": 2
}
